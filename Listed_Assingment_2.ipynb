{
  "nbformat": 4,
  "nbformat_minor": 0,
  "metadata": {
    "colab": {
      "provenance": []
    },
    "kernelspec": {
      "name": "python3",
      "display_name": "Python 3"
    },
    "language_info": {
      "name": "python"
    }
  },
  "cells": [
    {
      "cell_type": "markdown",
      "source": [
        "Libraries"
      ],
      "metadata": {
        "id": "S3vO49XV24Mn"
      }
    },
    {
      "cell_type": "code",
      "execution_count": 1,
      "metadata": {
        "id": "7wnmfx-yjP88"
      },
      "outputs": [],
      "source": [
        "from googlesearch import search\n",
        "import csv\n",
        "import json\n",
        "import sys\n",
        "import time"
      ]
    },
    {
      "cell_type": "markdown",
      "source": [
        " Function to execute the YouTube search and generate CSV file"
      ],
      "metadata": {
        "id": "b89nh9KN3H2n"
      }
    },
    {
      "cell_type": "code",
      "source": [
        "def execute_youtube_search(query,max_results):\n",
        "  query = query + ' inurl:/channel/'      #Modify query to include 'inurl:/channel/'\n",
        "\n",
        "  search_results = search(query, num=max_results)  #Perform Google Search\n",
        "\n",
        "  youtube_links = []\n",
        "  for result in search_results:\n",
        "    if 'youtube.com' in result and '/community' not in result:      #Many links have community channel which we don't require\n",
        "        youtube_links.append(result)\n",
        "\n",
        "  # Export results to CSV\n",
        "  output_file = 'youtube_links.csv'\n",
        "  with open(output_file, 'w', newline='') as csv_file:\n",
        "      writer = csv.writer(csv_file)\n",
        "      writer.writerow(['YouTube Links'])\n",
        "      writer.writerows([[link] for link in youtube_links])"
      ],
      "metadata": {
        "id": "qc1lykHruUet"
      },
      "execution_count": 2,
      "outputs": []
    },
    {
      "cell_type": "code",
      "source": [
        "query = input(\"Enter the query: \")   #Take query as input\n",
        "max_results = int(input(\"Enter Max Results: \"))   #Max links for filtering the results"
      ],
      "metadata": {
        "colab": {
          "base_uri": "https://localhost:8080/"
        },
        "id": "HippSMka1b-5",
        "outputId": "c0cb16cc-e9e4-4344-c261-05732c9923ad"
      },
      "execution_count": 3,
      "outputs": [
        {
          "name": "stdout",
          "output_type": "stream",
          "text": [
            "Enter the query: site:youtube.com openinapp.co\n",
            "Enter Max Results: 10000\n"
          ]
        }
      ]
    },
    {
      "cell_type": "code",
      "source": [
        "#Calling above function and determining the execution time\n",
        "start_time = time.time()\n",
        "execute_youtube_search(query,max_results)\n",
        "elapsed_time = time.time() - start_time"
      ],
      "metadata": {
        "id": "b6CaoGkS1mas"
      },
      "execution_count": 4,
      "outputs": []
    },
    {
      "cell_type": "code",
      "source": [
        "print(f\"Execution time: {elapsed_time} seconds\")"
      ],
      "metadata": {
        "colab": {
          "base_uri": "https://localhost:8080/"
        },
        "id": "z8128MCQ1ys-",
        "outputId": "47b31879-e7db-4888-9c64-0926037ff325"
      },
      "execution_count": 5,
      "outputs": [
        {
          "output_type": "stream",
          "name": "stdout",
          "text": [
            "Execution time: 12.230629682540894 seconds\n"
          ]
        }
      ]
    },
    {
      "cell_type": "code",
      "source": [],
      "metadata": {
        "id": "pmyNDakq2eSs"
      },
      "execution_count": null,
      "outputs": []
    }
  ]
}